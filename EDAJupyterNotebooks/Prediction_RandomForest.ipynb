{
 "cells": [
  {
   "cell_type": "code",
   "execution_count": 1,
   "metadata": {
    "collapsed": true
   },
   "outputs": [],
   "source": [
    "import pandas as pd\n",
    "import numpy as np\n",
    "import matplotlib.pyplot as plt\n",
    "import seaborn as sns\n",
    "import datetime\n",
    "import missingno as mnso\n",
    "from sklearn import datasets\n",
    "from sklearn import metrics\n",
    "from sklearn.ensemble import ExtraTreesClassifier\n",
    "from sklearn import datasets, linear_model\n",
    "from sklearn.preprocessing import LabelEncoder\n",
    "from sklearn.metrics import r2_score\n",
    "from sklearn.metrics import mean_squared_error\n",
    "from sklearn.metrics import mean_absolute_error\n",
    "from sklearn.utils import *\n",
    "from sklearn.metrics import mean_squared_error\n",
    "from math import sqrt"
   ]
  },
  {
   "cell_type": "code",
   "execution_count": 2,
   "metadata": {},
   "outputs": [],
   "source": [
    "MAINPATH=r\"C:\\Users\\Manasi\\Desktop\\ads\\midterm\\data\\historical_2005\"\n",
    "TRAINFILENAME=\"cleanfile2005_Q2.txt\"\n",
    "TESTFILENAME=\"cleanfile2005_Q3.txt\""
   ]
  },
  {
   "cell_type": "code",
   "execution_count": 3,
   "metadata": {
    "collapsed": true
   },
   "outputs": [],
   "source": [
    "Train_DF = pd.read_csv(MAINPATH+\"/\"+TRAINFILENAME,index_col=None)"
   ]
  },
  {
   "cell_type": "code",
   "execution_count": 4,
   "metadata": {
    "collapsed": true
   },
   "outputs": [],
   "source": [
    "Test_DF=pd.read_csv(MAINPATH+\"/\"+TESTFILENAME,index_col=None)"
   ]
  },
  {
   "cell_type": "code",
   "execution_count": 7,
   "metadata": {
    "collapsed": true
   },
   "outputs": [],
   "source": [
    "def dummyvar(df):\n",
    "    dumvar=df\n",
    "    dumvar.select_dtypes(include=['object']).copy()\n",
    "    #dumvar=pd.get_dummies(dumvar, columns=[\"PPM_FLAG\"], prefix=[\"ppm\"])\n",
    "    lb_make = LabelEncoder()\n",
    "    dumvar[\"PPM_FLAG_CODE\"] = lb_make.fit_transform(dumvar[\"PPM_FLAG\"])\n",
    "    dumvar[\"LOAN_PURPOSE_CODE\"] = lb_make.fit_transform(dumvar[\"LOAN_PURPOSE\"])\n",
    "    dumvar[\"OCCUPANCY_STATS_CODE\"] = lb_make.fit_transform(dumvar[\"OCCUPANCY_STATS\"])\n",
    "    dumvar[\"PROP_TYPE_CODE\"] = lb_make.fit_transform(dumvar[\"PROP_TYPE\"])\n",
    "    dumvar[\"FIRST_HOME_BUYER_FLAG_CODE\"] = lb_make.fit_transform(dumvar[\"FIRST_HOME_BUYER_FLAG\"])\n",
    "    dumvar[\"PROP_STATE_CODE\"] = lb_make.fit_transform(dumvar[\"PROP_STATE\"])\n",
    "    dumvar[\"CHANNEL_CODE\"] = lb_make.fit_transform(dumvar[\"CHANNEL\"])\n",
    "    dumvar[\"SELLER_NAME_CODE\"] = lb_make.fit_transform(dumvar[\"SELLER_NAME\"])\n",
    "    dumvar[\"SERVICE_NAME_CODE\"] = lb_make.fit_transform(dumvar[\"SERVICE_NAME\"])\n",
    "    return dumvar"
   ]
  },
  {
   "cell_type": "code",
   "execution_count": 8,
   "metadata": {},
   "outputs": [],
   "source": [
    "a= dummyvar(Train_DF)\n",
    "b= dummyvar(Test_DF)"
   ]
  },
  {
   "cell_type": "code",
   "execution_count": 9,
   "metadata": {},
   "outputs": [
    {
     "name": "stdout",
     "output_type": "stream",
     "text": [
      "<class 'pandas.core.frame.DataFrame'>\n",
      "RangeIndex: 405661 entries, 0 to 405660\n",
      "Data columns (total 22 columns):\n",
      "Unnamed: 0                    405661 non-null int64\n",
      "CREDIT_SCORE                  405661 non-null int64\n",
      "MSA                           405661 non-null int64\n",
      "MI_PERCENT                    405661 non-null float64\n",
      "N_UNITS                       405661 non-null int64\n",
      "OG_CLTV                       405661 non-null float64\n",
      "OG_DTI                        405661 non-null float64\n",
      "OG_UPB                        405661 non-null int64\n",
      "OG_LTV                        405661 non-null float64\n",
      "OG_IR                         405661 non-null float64\n",
      "POSTALCODE                    405661 non-null int64\n",
      "OG_LOANTERM                   405661 non-null int64\n",
      "NO_BORROWERS                  405661 non-null int64\n",
      "PPM_FLAG_CODE                 405661 non-null int64\n",
      "LOAN_PURPOSE_CODE             405661 non-null int64\n",
      "OCCUPANCY_STATS_CODE          405661 non-null int64\n",
      "PROP_TYPE_CODE                405661 non-null int64\n",
      "FIRST_HOME_BUYER_FLAG_CODE    405661 non-null int64\n",
      "PROP_STATE_CODE               405661 non-null int64\n",
      "CHANNEL_CODE                  405661 non-null int64\n",
      "SELLER_NAME_CODE              405661 non-null int64\n",
      "SERVICE_NAME_CODE             405661 non-null int64\n",
      "dtypes: float64(5), int64(17)\n",
      "memory usage: 68.1 MB\n"
     ]
    }
   ],
   "source": [
    "a1 =a.select_dtypes(include=['number'])\n",
    "b1 =b.select_dtypes(include=['number'])\n",
    "a1.info()"
   ]
  },
  {
   "cell_type": "code",
   "execution_count": 10,
   "metadata": {},
   "outputs": [],
   "source": [
    "#a1=a1.drop('proprtytype_XX',axis=1)\n",
    "#b1=b1.drop('proprtytype_XX',axis=1)\n",
    "a1=a1[['CREDIT_SCORE','OG_UPB','OG_DTI','CHANNEL_CODE','OG_LOANTERM','OG_LTV','MI_PERCENT','PPM_FLAG_CODE','NO_BORROWERS','OG_CLTV','N_UNITS','PROP_STATE_CODE','FIRST_HOME_BUYER_FLAG_CODE','PROP_TYPE_CODE','OCCUPANCY_STATS_CODE','LOAN_PURPOSE_CODE','OG_IR']]\n",
    "b1=b1[['CREDIT_SCORE','OG_UPB','OG_DTI','CHANNEL_CODE','OG_LOANTERM','OG_LTV','MI_PERCENT','PPM_FLAG_CODE','NO_BORROWERS','OG_CLTV','N_UNITS','PROP_STATE_CODE','FIRST_HOME_BUYER_FLAG_CODE','PROP_TYPE_CODE','OCCUPANCY_STATS_CODE','LOAN_PURPOSE_CODE','OG_IR']]"
   ]
  },
  {
   "cell_type": "code",
   "execution_count": 11,
   "metadata": {
    "collapsed": true
   },
   "outputs": [],
   "source": [
    "\n",
    "X_train=a1.drop('OG_IR',axis=1)\n",
    "Y_train=a1.OG_IR\n",
    "X_test=b1.drop('OG_IR',axis=1)\n",
    "Y_test=b1.OG_IR"
   ]
  },
  {
   "cell_type": "code",
   "execution_count": 12,
   "metadata": {
    "collapsed": true
   },
   "outputs": [],
   "source": [
    "#X_train=a1.drop('OG_IR',axis=1)\n",
    "#Y_train=a1.OG_IR\n",
    "#X_test=b1.drop('OG_IR',axis=1)\n",
    "#Y_test=b1.OG_IR"
   ]
  },
  {
   "cell_type": "code",
   "execution_count": 13,
   "metadata": {},
   "outputs": [],
   "source": [
    "from sklearn.ensemble import RandomForestRegressor\n",
    "regressor = RandomForestRegressor(n_estimators=100,n_jobs=10)\n",
    "regressor.fit(X_train, Y_train)\n",
    "\n",
    "rf_predict=regressor.predict(X_test)\n",
    "\n"
   ]
  },
  {
   "cell_type": "code",
   "execution_count": 15,
   "metadata": {
    "collapsed": true
   },
   "outputs": [],
   "source": [
    "def mean_absolute_percentage_error(y_true, rf_predict): \n",
    "    return np.mean(np.abs((y_true - rf_predict) / y_true)) * 100\n",
    "\n",
    "rf_r2 = r2_score(Y_test, rf_predict)\n",
    "rf_mse = mean_squared_error(Y_test, rf_predict)\n",
    "rf_rmse = sqrt(mean_squared_error(Y_test, rf_predict))\n",
    "rf_mae = mean_absolute_error(Y_test, rf_predict)\n",
    "rf_mape = mean_absolute_percentage_error(Y_test, rf_predict)"
   ]
  },
  {
   "cell_type": "code",
   "execution_count": 16,
   "metadata": {},
   "outputs": [
    {
     "name": "stdout",
     "output_type": "stream",
     "text": [
      "0.255216307795\n",
      "0.086623223225\n",
      "0.29431823461171636\n",
      "0.22372879921\n",
      "3.9576141633041177\n"
     ]
    }
   ],
   "source": [
    "print(rf_r2)\n",
    "print(rf_mse)\n",
    "print(rf_rmse)\n",
    "print(rf_mae)\n",
    "print(rf_mape)"
   ]
  },
  {
   "cell_type": "code",
   "execution_count": null,
   "metadata": {
    "collapsed": true
   },
   "outputs": [],
   "source": []
  }
 ],
 "metadata": {
  "kernelspec": {
   "display_name": "Python 3",
   "language": "python",
   "name": "python3"
  },
  "language_info": {
   "codemirror_mode": {
    "name": "ipython",
    "version": 3
   },
   "file_extension": ".py",
   "mimetype": "text/x-python",
   "name": "python",
   "nbconvert_exporter": "python",
   "pygments_lexer": "ipython3",
   "version": "3.6.0"
  }
 },
 "nbformat": 4,
 "nbformat_minor": 2
}
