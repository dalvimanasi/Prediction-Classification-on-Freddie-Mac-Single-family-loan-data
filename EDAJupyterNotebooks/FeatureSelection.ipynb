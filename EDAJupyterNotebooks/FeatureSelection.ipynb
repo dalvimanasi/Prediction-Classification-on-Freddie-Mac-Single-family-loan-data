{
 "cells": [
  {
   "cell_type": "code",
   "execution_count": 29,
   "metadata": {
    "collapsed": true
   },
   "outputs": [],
   "source": [
    "import pandas as pd\n",
    "import numpy as np\n",
    "import matplotlib.pyplot as plt\n",
    "\n",
    "import datetime\n",
    "import missingno as mnso\n",
    "from sklearn import datasets\n",
    "from sklearn import metrics\n",
    "from sklearn.ensemble import ExtraTreesClassifier\n",
    "from sklearn import datasets, linear_model\n",
    "from sklearn.preprocessing import LabelEncoder\n",
    "from sklearn.metrics import r2_score\n",
    "from sklearn.metrics import mean_squared_error\n",
    "from sklearn.metrics import mean_absolute_error\n",
    "from sklearn.utils import *\n",
    "from sklearn.metrics import mean_squared_error\n",
    "from math import sqrt"
   ]
  },
  {
   "cell_type": "code",
   "execution_count": 30,
   "metadata": {
    "collapsed": true
   },
   "outputs": [],
   "source": [
    "MAINPATH=r\"C:\\Users\\Manasi\\Desktop\\ads\\midterm\\data\\historical_2005\"\n",
    "TRAINFILENAME=\"cleanfile2005_Q2.txt\"\n",
    "TESTFILENAME=\"cleanfile2005_Q3.txt\""
   ]
  },
  {
   "cell_type": "code",
   "execution_count": 31,
   "metadata": {
    "collapsed": true
   },
   "outputs": [],
   "source": [
    "Train_DF = pd.read_csv(MAINPATH+\"/\"+TRAINFILENAME,index_col=None)"
   ]
  },
  {
   "cell_type": "code",
   "execution_count": 32,
   "metadata": {
    "collapsed": true
   },
   "outputs": [],
   "source": [
    "Test_DF=pd.read_csv(MAINPATH+\"/\"+TESTFILENAME,index_col=None)"
   ]
  },
  {
   "cell_type": "code",
   "execution_count": 33,
   "metadata": {
    "collapsed": true
   },
   "outputs": [],
   "source": [
    "def dummyvar(df):\n",
    "    dumvar=df\n",
    "    dumvar.select_dtypes(include=['object']).copy()\n",
    "    #dumvar=pd.get_dummies(dumvar, columns=[\"PPM_FLAG\"], prefix=[\"ppm\"])\n",
    "    lb_make = LabelEncoder()\n",
    "    dumvar[\"PPM_FLAG_CODE\"] = lb_make.fit_transform(dumvar[\"PPM_FLAG\"])\n",
    "    dumvar[\"LOAN_PURPOSE_CODE\"] = lb_make.fit_transform(dumvar[\"LOAN_PURPOSE\"])\n",
    "    dumvar[\"OCCUPANCY_STATS_CODE\"] = lb_make.fit_transform(dumvar[\"OCCUPANCY_STATS\"])\n",
    "    dumvar[\"PROP_TYPE_CODE\"] = lb_make.fit_transform(dumvar[\"PROP_TYPE\"])\n",
    "    dumvar[\"FIRST_HOME_BUYER_FLAG_CODE\"] = lb_make.fit_transform(dumvar[\"FIRST_HOME_BUYER_FLAG\"])\n",
    "    dumvar[\"PROP_STATE_CODE\"] = lb_make.fit_transform(dumvar[\"PROP_STATE\"])\n",
    "    dumvar[\"CHANNEL_CODE\"] = lb_make.fit_transform(dumvar[\"CHANNEL\"])\n",
    "    dumvar[\"SELLER_NAME_CODE\"] = lb_make.fit_transform(dumvar[\"SELLER_NAME\"])\n",
    "    dumvar[\"SERVICE_NAME_CODE\"] = lb_make.fit_transform(dumvar[\"SERVICE_NAME\"])\n",
    "    return dumvar\n",
    "    "
   ]
  },
  {
   "cell_type": "code",
   "execution_count": 34,
   "metadata": {
    "collapsed": true
   },
   "outputs": [],
   "source": [
    "a= dummyvar(Train_DF)\n",
    "b= dummyvar(Test_DF)"
   ]
  },
  {
   "cell_type": "code",
   "execution_count": 35,
   "metadata": {
    "collapsed": true
   },
   "outputs": [],
   "source": [
    "X_train=a.select_dtypes(include=['number'])\n",
    "Y_train =b.select_dtypes(include=['number'])\n"
   ]
  },
  {
   "cell_type": "code",
   "execution_count": 36,
   "metadata": {
    "collapsed": true
   },
   "outputs": [],
   "source": [
    "X=X_train.drop('OG_IR',axis=1)\n",
    "Y=Y_train.drop('OG_IR',axis=1)\n",
    "X1=X_train.OG_IR\n",
    "Y1=Y_train.OG_IR"
   ]
  },
  {
   "cell_type": "code",
   "execution_count": 55,
   "metadata": {
    "collapsed": true
   },
   "outputs": [],
   "source": [
    "from sklearn.decomposition import PCA\n",
    "from sklearn.preprocessing import scale\n",
    "A=scale(X_train)\n",
    "pca=PCA()\n",
    "pca.fit(A)\n",
    "#The amount of variance that each PC explains\n",
    "var= pca.explained_variance_ratio_\n",
    "#Cumulative Variance explains\n",
    "var1=np.cumsum(np.round(pca.explained_variance_ratio_, decimals=4)*100)"
   ]
  },
  {
   "cell_type": "code",
   "execution_count": 56,
   "metadata": {},
   "outputs": [
    {
     "data": {
      "image/png": "[encoded data removed]",
      "text/plain": [
       "<matplotlib.figure.Figure at 0x2e40da1e978>"
      ]
     },
     "metadata": {},
     "output_type": "display_data"
    }
   ],
   "source": [
    "plt.plot(var1)\n",
    "plt.show()"
   ]
  },
  {
   "cell_type": "code",
   "execution_count": 37,
   "metadata": {
    "scrolled": true
   },
   "outputs": [
    {
     "name": "stdout",
     "output_type": "stream",
     "text": [
      "F-score: 58216.00t for feature Unnamed: 0\n",
      "F-score: 12320.97t for feature CREDIT_SCORE\n",
      "F-score: 282.59t for feature MSA\n",
      "F-score: 18098.76t for feature MI_PERCENT\n",
      "F-score: 412.28t for feature N_UNITS\n",
      "F-score: 14651.86t for feature OG_CLTV\n",
      "F-score: 777.00t for feature OG_DTI\n",
      "F-score: 8334.21t for feature OG_UPB\n",
      "F-score: 16604.64t for feature OG_LTV\n",
      "F-score: 552.37t for feature OG_IR\n",
      "F-score: 64682.43t for feature POSTALCODE\n",
      "F-score: 2314.05t for feature OG_LOANTERM\n",
      "F-score: 614.80t for feature NO_BORROWERS\n",
      "F-score: 376.92t for feature PPM_FLAG_CODE\n",
      "F-score: 4354.26t for feature LOAN_PURPOSE_CODE\n",
      "F-score: 417.34t for feature OCCUPANCY_STATS_CODE\n",
      "F-score: 1072.80t for feature PROP_TYPE_CODE\n",
      "F-score: 6.73t for feature FIRST_HOME_BUYER_FLAG_CODE\n",
      "F-score: 2942.26t for feature PROP_STATE_CODE\n",
      "F-score: 431.20t for feature CHANNEL_CODE\n",
      "F-score: 1089.15t for feature SELLER_NAME_CODE\n"
     ]
    }
   ],
   "source": [
    "# f regression\n",
    "from sklearn.feature_selection import SelectPercentile\n",
    "from sklearn.feature_selection import f_regression\n",
    "Selector_f = SelectPercentile(f_regression, percentile=25)\n",
    "r=Selector_f.fit(X,X1)\n",
    "for n,s in zip(X_train.columns,Selector_f.scores_):\n",
    "    print ('F-score: %3.2ft for feature %s' % (s,n))"
   ]
  },
  {
   "cell_type": "code",
   "execution_count": 50,
   "metadata": {
    "collapsed": true
   },
   "outputs": [],
   "source": [
    "from sklearn.linear_model import Lasso\n",
    "from sklearn.preprocessing import StandardScaler\n",
    "\n",
    "import pandas as pd\n",
    "scaler = StandardScaler()\n",
    "A = scaler.fit_transform(X)\n",
    "B = X1\n",
    "names = X.columns\n",
    "\n"
   ]
  },
  {
   "cell_type": "code",
   "execution_count": 51,
   "metadata": {
    "collapsed": true
   },
   "outputs": [],
   "source": [
    "#df = pd.DataFrame()\n",
    "# Create a function called lasso,\n",
    "def lasso(alphas):\n",
    "    '''\n",
    "    Takes in a list of alphas. Outputs a dataframe containing the coefficients of lasso regressions from each alpha.\n",
    "    '''\n",
    "    # Create an empty data frame\n",
    "    df = pd.DataFrame()\n",
    "    # Create a column of feature names\n",
    "    df['Feature Name'] = names\n",
    "    # For each alpha value in the list of alpha values,\n",
    "    for alpha in alphas:\n",
    "        # Create a lasso regression with that alpha value,\n",
    "        lasso = Lasso(alpha=alpha)\n",
    "        # Fit the lasso regression\n",
    "        lasso.fit(A, B)\n",
    "        # Create a column name for that alpha value\n",
    "        column_name = 'Alpha = %f' % alpha\n",
    "        # Create a column of coefficient values\n",
    "        df[column_name] = lasso.coef_\n",
    "    # Return the datafram    \n",
    "    return df"
   ]
  },
  {
   "cell_type": "code",
   "execution_count": 52,
   "metadata": {},
   "outputs": [
    {
     "data": {
      "text/html": [
       "<div>\n",
       "<table border=\"1\" class=\"dataframe\">\n",
       "  <thead>\n",
       "    <tr style=\"text-align: right;\">\n",
       "      <th></th>\n",
       "      <th>Feature Name</th>\n",
       "      <th>Alpha = 0.000100</th>\n",
       "      <th>Alpha = 0.500000</th>\n",
       "      <th>Alpha = 10.000000</th>\n",
       "    </tr>\n",
       "  </thead>\n",
       "  <tbody>\n",
       "    <tr>\n",
       "      <th>0</th>\n",
       "      <td>Unnamed: 0</td>\n",
       "      <td>-0.061290</td>\n",
       "      <td>-0.0</td>\n",
       "      <td>-0.0</td>\n",
       "    </tr>\n",
       "    <tr>\n",
       "      <th>1</th>\n",
       "      <td>CREDIT_SCORE</td>\n",
       "      <td>-0.039544</td>\n",
       "      <td>-0.0</td>\n",
       "      <td>-0.0</td>\n",
       "    </tr>\n",
       "    <tr>\n",
       "      <th>2</th>\n",
       "      <td>MSA</td>\n",
       "      <td>0.001777</td>\n",
       "      <td>-0.0</td>\n",
       "      <td>-0.0</td>\n",
       "    </tr>\n",
       "    <tr>\n",
       "      <th>3</th>\n",
       "      <td>MI_PERCENT</td>\n",
       "      <td>0.039913</td>\n",
       "      <td>0.0</td>\n",
       "      <td>0.0</td>\n",
       "    </tr>\n",
       "    <tr>\n",
       "      <th>4</th>\n",
       "      <td>N_UNITS</td>\n",
       "      <td>0.012942</td>\n",
       "      <td>0.0</td>\n",
       "      <td>0.0</td>\n",
       "    </tr>\n",
       "    <tr>\n",
       "      <th>5</th>\n",
       "      <td>OG_CLTV</td>\n",
       "      <td>0.000000</td>\n",
       "      <td>0.0</td>\n",
       "      <td>0.0</td>\n",
       "    </tr>\n",
       "    <tr>\n",
       "      <th>6</th>\n",
       "      <td>OG_DTI</td>\n",
       "      <td>-0.002972</td>\n",
       "      <td>0.0</td>\n",
       "      <td>0.0</td>\n",
       "    </tr>\n",
       "    <tr>\n",
       "      <th>7</th>\n",
       "      <td>OG_UPB</td>\n",
       "      <td>-0.070587</td>\n",
       "      <td>-0.0</td>\n",
       "      <td>-0.0</td>\n",
       "    </tr>\n",
       "    <tr>\n",
       "      <th>8</th>\n",
       "      <td>OG_LTV</td>\n",
       "      <td>0.021723</td>\n",
       "      <td>0.0</td>\n",
       "      <td>0.0</td>\n",
       "    </tr>\n",
       "    <tr>\n",
       "      <th>9</th>\n",
       "      <td>POSTALCODE</td>\n",
       "      <td>-0.009702</td>\n",
       "      <td>-0.0</td>\n",
       "      <td>-0.0</td>\n",
       "    </tr>\n",
       "    <tr>\n",
       "      <th>10</th>\n",
       "      <td>OG_LOANTERM</td>\n",
       "      <td>0.102139</td>\n",
       "      <td>0.0</td>\n",
       "      <td>0.0</td>\n",
       "    </tr>\n",
       "    <tr>\n",
       "      <th>11</th>\n",
       "      <td>NO_BORROWERS</td>\n",
       "      <td>-0.004936</td>\n",
       "      <td>-0.0</td>\n",
       "      <td>-0.0</td>\n",
       "    </tr>\n",
       "    <tr>\n",
       "      <th>12</th>\n",
       "      <td>PPM_FLAG_CODE</td>\n",
       "      <td>0.012759</td>\n",
       "      <td>0.0</td>\n",
       "      <td>0.0</td>\n",
       "    </tr>\n",
       "    <tr>\n",
       "      <th>13</th>\n",
       "      <td>LOAN_PURPOSE_CODE</td>\n",
       "      <td>-0.026983</td>\n",
       "      <td>0.0</td>\n",
       "      <td>0.0</td>\n",
       "    </tr>\n",
       "    <tr>\n",
       "      <th>14</th>\n",
       "      <td>OCCUPANCY_STATS_CODE</td>\n",
       "      <td>-0.030935</td>\n",
       "      <td>-0.0</td>\n",
       "      <td>-0.0</td>\n",
       "    </tr>\n",
       "    <tr>\n",
       "      <th>15</th>\n",
       "      <td>PROP_TYPE_CODE</td>\n",
       "      <td>-0.010039</td>\n",
       "      <td>-0.0</td>\n",
       "      <td>-0.0</td>\n",
       "    </tr>\n",
       "    <tr>\n",
       "      <th>16</th>\n",
       "      <td>FIRST_HOME_BUYER_FLAG_CODE</td>\n",
       "      <td>-0.001429</td>\n",
       "      <td>0.0</td>\n",
       "      <td>0.0</td>\n",
       "    </tr>\n",
       "    <tr>\n",
       "      <th>17</th>\n",
       "      <td>PROP_STATE_CODE</td>\n",
       "      <td>-0.008897</td>\n",
       "      <td>0.0</td>\n",
       "      <td>0.0</td>\n",
       "    </tr>\n",
       "    <tr>\n",
       "      <th>18</th>\n",
       "      <td>CHANNEL_CODE</td>\n",
       "      <td>-0.042927</td>\n",
       "      <td>-0.0</td>\n",
       "      <td>-0.0</td>\n",
       "    </tr>\n",
       "    <tr>\n",
       "      <th>19</th>\n",
       "      <td>SELLER_NAME_CODE</td>\n",
       "      <td>-0.022083</td>\n",
       "      <td>0.0</td>\n",
       "      <td>0.0</td>\n",
       "    </tr>\n",
       "    <tr>\n",
       "      <th>20</th>\n",
       "      <td>SERVICE_NAME_CODE</td>\n",
       "      <td>0.022815</td>\n",
       "      <td>0.0</td>\n",
       "      <td>0.0</td>\n",
       "    </tr>\n",
       "  </tbody>\n",
       "</table>\n",
       "</div>"
      ],
      "text/plain": [
       "                  Feature Name  Alpha = 0.000100  Alpha = 0.500000  \\\n",
       "0                   Unnamed: 0         -0.061290              -0.0   \n",
       "1                 CREDIT_SCORE         -0.039544              -0.0   \n",
       "2                          MSA          0.001777              -0.0   \n",
       "3                   MI_PERCENT          0.039913               0.0   \n",
       "4                      N_UNITS          0.012942               0.0   \n",
       "5                      OG_CLTV          0.000000               0.0   \n",
       "6                       OG_DTI         -0.002972               0.0   \n",
       "7                       OG_UPB         -0.070587              -0.0   \n",
       "8                       OG_LTV          0.021723               0.0   \n",
       "9                   POSTALCODE         -0.009702              -0.0   \n",
       "10                 OG_LOANTERM          0.102139               0.0   \n",
       "11                NO_BORROWERS         -0.004936              -0.0   \n",
       "12               PPM_FLAG_CODE          0.012759               0.0   \n",
       "13           LOAN_PURPOSE_CODE         -0.026983               0.0   \n",
       "14        OCCUPANCY_STATS_CODE         -0.030935              -0.0   \n",
       "15              PROP_TYPE_CODE         -0.010039              -0.0   \n",
       "16  FIRST_HOME_BUYER_FLAG_CODE         -0.001429               0.0   \n",
       "17             PROP_STATE_CODE         -0.008897               0.0   \n",
       "18                CHANNEL_CODE         -0.042927              -0.0   \n",
       "19            SELLER_NAME_CODE         -0.022083               0.0   \n",
       "20           SERVICE_NAME_CODE          0.022815               0.0   \n",
       "\n",
       "    Alpha = 10.000000  \n",
       "0                -0.0  \n",
       "1                -0.0  \n",
       "2                -0.0  \n",
       "3                 0.0  \n",
       "4                 0.0  \n",
       "5                 0.0  \n",
       "6                 0.0  \n",
       "7                -0.0  \n",
       "8                 0.0  \n",
       "9                -0.0  \n",
       "10                0.0  \n",
       "11               -0.0  \n",
       "12                0.0  \n",
       "13                0.0  \n",
       "14               -0.0  \n",
       "15               -0.0  \n",
       "16                0.0  \n",
       "17                0.0  \n",
       "18               -0.0  \n",
       "19                0.0  \n",
       "20                0.0  "
      ]
     },
     "execution_count": 52,
     "metadata": {},
     "output_type": "execute_result"
    }
   ],
   "source": [
    "# Run the function called, Lasso\n",
    "lasso([.0001, .5, 10])"
   ]
  },
  {
   "cell_type": "code",
   "execution_count": 54,
   "metadata": {},
   "outputs": [
    {
     "name": "stdout",
     "output_type": "stream",
     "text": [
      "Features sorted by their rank:\n",
      "[(1, 'OG_LOANTERM'), (2, 'OG_UPB'), (3, 'Unnamed: 0'), (4, 'CREDIT_SCORE'), (5, 'CHANNEL_CODE'), (6, 'MI_PERCENT'), (7, 'OCCUPANCY_STATS_CODE'), (8, 'SELLER_NAME_CODE'), (9, 'SERVICE_NAME_CODE'), (10, 'LOAN_PURPOSE_CODE'), (11, 'OG_LTV'), (12, 'N_UNITS'), (13, 'PPM_FLAG_CODE'), (14, 'PROP_TYPE_CODE'), (15, 'POSTALCODE'), (16, 'PROP_STATE_CODE'), (17, 'NO_BORROWERS'), (18, 'OG_DTI'), (19, 'MSA'), (20, 'FIRST_HOME_BUYER_FLAG_CODE'), (21, 'OG_CLTV')]\n"
     ]
    }
   ],
   "source": [
    "# Recursive feature elimination\n",
    "from sklearn.feature_selection import RFE\n",
    "from sklearn.linear_model import LinearRegression\n",
    "#use linear regression as the model\n",
    "lr = LinearRegression()\n",
    "#rank all features, i.e continue the elimination until the last one\n",
    "rfe = RFE(lr, n_features_to_select=1)\n",
    "rfe.fit(A, B)\n",
    "#result=sorted(zip(map(lambda x: round(x, 4), rfe.ranking_), X1.columns))\n",
    "print (\"Features sorted by their rank:\")\n",
    "#pd.DataFrame(result)\n",
    "print (sorted(zip(map(lambda x: round(x, 4), rfe.ranking_), X.columns)))"
   ]
  }
 ],
 "metadata": {
  "kernelspec": {
   "display_name": "Python 3",
   "language": "python",
   "name": "python3"
  },
  "language_info": {
   "codemirror_mode": {
    "name": "ipython",
    "version": 3
   },
   "file_extension": ".py",
   "mimetype": "text/x-python",
   "name": "python",
   "nbconvert_exporter": "python",
   "pygments_lexer": "ipython3",
   "version": "3.6.0"
  }
 },
 "nbformat": 4,
 "nbformat_minor": 2
}
