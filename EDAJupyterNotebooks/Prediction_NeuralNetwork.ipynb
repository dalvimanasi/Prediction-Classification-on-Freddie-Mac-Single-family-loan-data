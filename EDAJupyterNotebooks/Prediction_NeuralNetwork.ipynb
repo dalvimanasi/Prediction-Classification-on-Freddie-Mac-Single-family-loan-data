{
 "cells": [
  {
   "cell_type": "code",
   "execution_count": 1,
   "metadata": {
    "collapsed": true
   },
   "outputs": [],
   "source": [
    "import pandas as pd\n",
    "import numpy as np\n",
    "import matplotlib.pyplot as plt\n",
    "import seaborn as sns\n",
    "import datetime\n",
    "import missingno as mnso\n",
    "from sklearn import datasets\n",
    "from sklearn import metrics\n",
    "from sklearn.ensemble import ExtraTreesClassifier\n",
    "from sklearn import datasets, linear_model\n",
    "from sklearn.preprocessing import LabelEncoder\n",
    "from sklearn.metrics import r2_score\n",
    "from sklearn.metrics import mean_squared_error\n",
    "from sklearn.metrics import mean_absolute_error\n",
    "from sklearn.utils import *\n",
    "from sklearn.metrics import mean_squared_error\n",
    "from math import sqrt"
   ]
  },
  {
   "cell_type": "code",
   "execution_count": 2,
   "metadata": {
    "collapsed": true
   },
   "outputs": [],
   "source": [
    "MAINPATH=r\"C:\\Users\\Manasi\\Desktop\\ads\\midterm\\data\\historical_2005\"\n",
    "TRAINFILENAME=\"cleanfile2005_Q2.txt\"\n",
    "TESTFILENAME=\"cleanfile2005_Q3.txt\""
   ]
  },
  {
   "cell_type": "code",
   "execution_count": 3,
   "metadata": {
    "collapsed": true
   },
   "outputs": [],
   "source": [
    "Train_DF = pd.read_csv(MAINPATH+\"/\"+TRAINFILENAME,index_col=None)"
   ]
  },
  {
   "cell_type": "code",
   "execution_count": 4,
   "metadata": {
    "collapsed": true
   },
   "outputs": [],
   "source": [
    "Test_DF=pd.read_csv(MAINPATH+\"/\"+TESTFILENAME,index_col=None)"
   ]
  },
  {
   "cell_type": "code",
   "execution_count": 5,
   "metadata": {
    "collapsed": true
   },
   "outputs": [],
   "source": [
    "#create dummy for categorical var\n",
    "def dummyvar(df):\n",
    "    dumvar=df\n",
    "    dumvar.select_dtypes(include=['object']).copy()\n",
    "    #dumvar=pd.get_dummies(dumvar, columns=[\"PPM_FLAG\"], prefix=[\"ppm\"])\n",
    "    lb_make = LabelEncoder()\n",
    "    dumvar[\"PPM_FLAG_CODE\"] = lb_make.fit_transform(dumvar[\"PPM_FLAG\"])\n",
    "    dumvar[\"LOAN_PURPOSE_CODE\"] = lb_make.fit_transform(dumvar[\"LOAN_PURPOSE\"])\n",
    "    dumvar[\"OCCUPANCY_STATS_CODE\"] = lb_make.fit_transform(dumvar[\"OCCUPANCY_STATS\"])\n",
    "    dumvar[\"PROP_TYPE_CODE\"] = lb_make.fit_transform(dumvar[\"PROP_TYPE\"])\n",
    "    dumvar[\"FIRST_HOME_BUYER_FLAG_CODE\"] = lb_make.fit_transform(dumvar[\"FIRST_HOME_BUYER_FLAG\"])\n",
    "    dumvar[\"PROP_STATE_CODE\"] = lb_make.fit_transform(dumvar[\"PROP_STATE\"])\n",
    "    dumvar[\"CHANNEL_CODE\"] = lb_make.fit_transform(dumvar[\"CHANNEL\"])\n",
    "    dumvar[\"SELLER_NAME_CODE\"] = lb_make.fit_transform(dumvar[\"SELLER_NAME\"])\n",
    "    dumvar[\"SERVICE_NAME_CODE\"] = lb_make.fit_transform(dumvar[\"SERVICE_NAME\"])\n",
    "    return dumvar\n",
    "    "
   ]
  },
  {
   "cell_type": "code",
   "execution_count": 6,
   "metadata": {
    "collapsed": true
   },
   "outputs": [],
   "source": [
    "a= dummyvar(Train_DF)\n",
    "b= dummyvar(Test_DF)"
   ]
  },
  {
   "cell_type": "code",
   "execution_count": 7,
   "metadata": {
    "collapsed": true
   },
   "outputs": [],
   "source": [
    "a1 =a.select_dtypes(include=['number'])\n",
    "b1 =b.select_dtypes(include=['number'])"
   ]
  },
  {
   "cell_type": "code",
   "execution_count": 8,
   "metadata": {},
   "outputs": [],
   "source": [
    "#a1=a1.drop('proprtytype_XX',axis=1)\n",
    "#b1=b1.drop('proprtytype_XX',axis=1)\n",
    "a1=a1[['CREDIT_SCORE','OG_UPB','OG_DTI','OG_LOANTERM','OG_LTV','MI_PERCENT','PPM_FLAG_CODE','NO_BORROWERS','OG_CLTV','N_UNITS','PROP_STATE_CODE','FIRST_HOME_BUYER_FLAG_CODE','PROP_TYPE_CODE','OCCUPANCY_STATS_CODE','LOAN_PURPOSE_CODE','OG_IR']]\n",
    "b1=b1[['CREDIT_SCORE','OG_UPB','OG_DTI','OG_LOANTERM','OG_LTV','MI_PERCENT','PPM_FLAG_CODE','NO_BORROWERS','OG_CLTV','N_UNITS','PROP_STATE_CODE','FIRST_HOME_BUYER_FLAG_CODE','PROP_TYPE_CODE','OCCUPANCY_STATS_CODE','LOAN_PURPOSE_CODE','OG_IR']]"
   ]
  },
  {
   "cell_type": "code",
   "execution_count": 9,
   "metadata": {
    "collapsed": true
   },
   "outputs": [],
   "source": [
    "X_train=a1.drop('OG_IR',axis=1)\n",
    "Y_train=a1.OG_IR\n",
    "X_test=b1.drop('OG_IR',axis=1)\n",
    "Y_test=b1.OG_IR"
   ]
  },
  {
   "cell_type": "code",
   "execution_count": 16,
   "metadata": {},
   "outputs": [],
   "source": [
    "from sklearn.neural_network import MLPRegressor\n",
    "\n",
    "#reg = MLPRegressor(hidden_layer_sizes=(50,), algorithm=\"l-bfgs\")\n",
    "\n",
    "reg = MLPRegressor(hidden_layer_sizes=(1,3) ,learning_rate_init=0.001)\n",
    "\n",
    "reg.fit(X_train,Y_train)\n",
    "\n",
    "predict=reg.predict(X_test)\n"
   ]
  },
  {
   "cell_type": "code",
   "execution_count": 17,
   "metadata": {},
   "outputs": [],
   "source": [
    "def mean_absolute_percentage_error(y_true, predict): \n",
    "    return np.mean(np.abs((y_true - predict) / y_true)) * 100\n",
    "\n",
    "mlp_r2 = r2_score(Y_test, predict)\n",
    "mlp_mse = mean_squared_error(Y_test, predict)\n",
    "mlp_rmse = sqrt(mean_squared_error(Y_test, predict))\n",
    "mlp_mae = mean_absolute_error(Y_test, predict)\n",
    "mlp_mape = mean_absolute_percentage_error(Y_test, predict)"
   ]
  },
  {
   "cell_type": "code",
   "execution_count": 18,
   "metadata": {},
   "outputs": [
    {
     "name": "stdout",
     "output_type": "stream",
     "text": [
      "0.189612158945\n",
      "0.0942534155746\n",
      "0.30700719140530097\n",
      "0.230123785313\n",
      "4.053501237100889\n"
     ]
    }
   ],
   "source": [
    "print(mlp_r2)\n",
    "print(mlp_mse)\n",
    "print(mlp_rmse)\n",
    "print(mlp_mae)\n",
    "print(mlp_mape)"
   ]
  },
  {
   "cell_type": "code",
   "execution_count": null,
   "metadata": {
    "collapsed": true
   },
   "outputs": [],
   "source": []
  }
 ],
 "metadata": {
  "kernelspec": {
   "display_name": "Python 3",
   "language": "python",
   "name": "python3"
  },
  "language_info": {
   "codemirror_mode": {
    "name": "ipython",
    "version": 3
   },
   "file_extension": ".py",
   "mimetype": "text/x-python",
   "name": "python",
   "nbconvert_exporter": "python",
   "pygments_lexer": "ipython3",
   "version": "3.6.0"
  }
 },
 "nbformat": 4,
 "nbformat_minor": 2
}
