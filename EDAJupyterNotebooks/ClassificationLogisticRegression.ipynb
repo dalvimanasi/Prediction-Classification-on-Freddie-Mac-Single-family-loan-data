{
 "cells": [
  {
   "cell_type": "markdown",
   "metadata": {},
   "source": [
    "# Classification - Logistic Regression"
   ]
  },
  {
   "cell_type": "code",
   "execution_count": 1,
   "metadata": {},
   "outputs": [
    {
     "name": "stderr",
     "output_type": "stream",
     "text": [
      "C:\\Users\\visha\\Anaconda3\\lib\\site-packages\\sklearn\\cross_validation.py:44: DeprecationWarning: This module was deprecated in version 0.18 in favor of the model_selection module into which all the refactored classes and functions are moved. Also note that the interface of the new CV iterators are different from that of this module. This module will be removed in 0.20.\n",
      "  \"This module will be removed in 0.20.\", DeprecationWarning)\n"
     ]
    }
   ],
   "source": [
    "import pandas as pd\n",
    "import numpy as np\n",
    "from sklearn import metrics\n",
    "from sklearn import svm\n",
    "from statsmodels.formula.api import logit, probit, poisson, ols\n",
    "from sklearn.linear_model import LogisticRegression\n",
    "import statsmodels.api as sm\n",
    "from sklearn.cross_validation import train_test_split\n",
    "from sklearn.metrics import confusion_matrix\n",
    "from sklearn.metrics import roc_curve\n",
    "from sklearn.cross_validation  import cross_val_score"
   ]
  },
  {
   "cell_type": "code",
   "execution_count": 2,
   "metadata": {
    "collapsed": true
   },
   "outputs": [],
   "source": [
    "MAINPATH=\"C:/Users/visha/Desktop/MSIS/Advanced Data Science/Assignments/MIDTERM/Part2/temp\"\n",
    "TRAINFILENAME=\"clean_historical_data1_time_Q12005.txt.0\"\n",
    "TESTFILENAME=\"clean_historical_data1_time_Q22005.txt.0\""
   ]
  },
  {
   "cell_type": "code",
   "execution_count": 3,
   "metadata": {
    "collapsed": true
   },
   "outputs": [],
   "source": [
    "Train_DF = pd.read_csv(MAINPATH+\"/\"+TRAINFILENAME,index_col=None)"
   ]
  },
  {
   "cell_type": "code",
   "execution_count": 4,
   "metadata": {},
   "outputs": [
    {
     "data": {
      "text/html": [
       "<div>\n",
       "<table border=\"1\" class=\"dataframe\">\n",
       "  <thead>\n",
       "    <tr style=\"text-align: right;\">\n",
       "      <th></th>\n",
       "      <th>LOAN_SEQ_NO</th>\n",
       "      <th>MONTHLY_REPORT_PERIOD</th>\n",
       "      <th>CUR_ACT_UPB</th>\n",
       "      <th>CUR_LOAN_DELQ_STAT</th>\n",
       "      <th>LOAN_AGE</th>\n",
       "      <th>MONTHS_LEGAL_MATURITY</th>\n",
       "      <th>CURR_INTERESTRATE</th>\n",
       "      <th>CURR_DEF_UPB</th>\n",
       "      <th>DELINQUENT</th>\n",
       "    </tr>\n",
       "  </thead>\n",
       "  <tbody>\n",
       "    <tr>\n",
       "      <th>0</th>\n",
       "      <td>F105Q1000001</td>\n",
       "      <td>200504</td>\n",
       "      <td>190000.0</td>\n",
       "      <td>0</td>\n",
       "      <td>0</td>\n",
       "      <td>360</td>\n",
       "      <td>5.625</td>\n",
       "      <td>0.0</td>\n",
       "      <td>0</td>\n",
       "    </tr>\n",
       "    <tr>\n",
       "      <th>1</th>\n",
       "      <td>F105Q1000001</td>\n",
       "      <td>200505</td>\n",
       "      <td>190000.0</td>\n",
       "      <td>0</td>\n",
       "      <td>1</td>\n",
       "      <td>359</td>\n",
       "      <td>5.625</td>\n",
       "      <td>0.0</td>\n",
       "      <td>0</td>\n",
       "    </tr>\n",
       "    <tr>\n",
       "      <th>2</th>\n",
       "      <td>F105Q1000001</td>\n",
       "      <td>200506</td>\n",
       "      <td>190000.0</td>\n",
       "      <td>0</td>\n",
       "      <td>2</td>\n",
       "      <td>358</td>\n",
       "      <td>5.625</td>\n",
       "      <td>0.0</td>\n",
       "      <td>0</td>\n",
       "    </tr>\n",
       "    <tr>\n",
       "      <th>3</th>\n",
       "      <td>F105Q1000001</td>\n",
       "      <td>200507</td>\n",
       "      <td>189000.0</td>\n",
       "      <td>0</td>\n",
       "      <td>3</td>\n",
       "      <td>357</td>\n",
       "      <td>5.625</td>\n",
       "      <td>0.0</td>\n",
       "      <td>0</td>\n",
       "    </tr>\n",
       "    <tr>\n",
       "      <th>4</th>\n",
       "      <td>F105Q1000001</td>\n",
       "      <td>200508</td>\n",
       "      <td>189000.0</td>\n",
       "      <td>0</td>\n",
       "      <td>4</td>\n",
       "      <td>356</td>\n",
       "      <td>5.625</td>\n",
       "      <td>0.0</td>\n",
       "      <td>0</td>\n",
       "    </tr>\n",
       "  </tbody>\n",
       "</table>\n",
       "</div>"
      ],
      "text/plain": [
       "    LOAN_SEQ_NO  MONTHLY_REPORT_PERIOD  CUR_ACT_UPB  CUR_LOAN_DELQ_STAT  \\\n",
       "0  F105Q1000001                 200504     190000.0                   0   \n",
       "1  F105Q1000001                 200505     190000.0                   0   \n",
       "2  F105Q1000001                 200506     190000.0                   0   \n",
       "3  F105Q1000001                 200507     189000.0                   0   \n",
       "4  F105Q1000001                 200508     189000.0                   0   \n",
       "\n",
       "   LOAN_AGE  MONTHS_LEGAL_MATURITY  CURR_INTERESTRATE  CURR_DEF_UPB  \\\n",
       "0         0                    360              5.625           0.0   \n",
       "1         1                    359              5.625           0.0   \n",
       "2         2                    358              5.625           0.0   \n",
       "3         3                    357              5.625           0.0   \n",
       "4         4                    356              5.625           0.0   \n",
       "\n",
       "   DELINQUENT  \n",
       "0           0  \n",
       "1           0  \n",
       "2           0  \n",
       "3           0  \n",
       "4           0  "
      ]
     },
     "execution_count": 4,
     "metadata": {},
     "output_type": "execute_result"
    }
   ],
   "source": [
    "Train_DF.head()"
   ]
  },
  {
   "cell_type": "code",
   "execution_count": 5,
   "metadata": {
    "collapsed": true
   },
   "outputs": [],
   "source": [
    "traincols=['LOAN_SEQ_NO','MONTHLY_REPORT_PERIOD','CUR_ACT_UPB','CUR_LOAN_DELQ_STAT','LOAN_AGE','MONTHS_LEGAL_MATURITY','CURR_INTERESTRATE','CURR_DEF_UPB','DELINQUENT']\n",
    "traincols=['MONTHLY_REPORT_PERIOD','CUR_ACT_UPB','LOAN_AGE','MONTHS_LEGAL_MATURITY','CURR_INTERESTRATE','CURR_DEF_UPB']"
   ]
  },
  {
   "cell_type": "code",
   "execution_count": 6,
   "metadata": {
    "collapsed": true
   },
   "outputs": [],
   "source": [
    "y_train=Train_DF['DELINQUENT']\n",
    "Train_DF=Train_DF[traincols]"
   ]
  },
  {
   "cell_type": "code",
   "execution_count": 7,
   "metadata": {
    "collapsed": true
   },
   "outputs": [],
   "source": [
    "Test_DF=pd.read_csv(MAINPATH+\"/\"+TESTFILENAME,index_col=None)"
   ]
  },
  {
   "cell_type": "code",
   "execution_count": 8,
   "metadata": {
    "collapsed": true
   },
   "outputs": [],
   "source": [
    "testcols=['MONTHLY_REPORT_PERIOD','CUR_ACT_UPB','CUR_LOAN_DELQ_STAT','LOAN_AGE','MONTHS_LEGAL_MATURITY','CURR_INTERESTRATE','CURR_DEF_UPB','DELINQUENT']\n",
    "testcols=['MONTHLY_REPORT_PERIOD','CUR_ACT_UPB','LOAN_AGE','MONTHS_LEGAL_MATURITY','CURR_INTERESTRATE','CURR_DEF_UPB']\n"
   ]
  },
  {
   "cell_type": "code",
   "execution_count": 9,
   "metadata": {
    "collapsed": true
   },
   "outputs": [],
   "source": [
    "y_test=Test_DF['DELINQUENT']\n",
    "Test_DF=Test_DF[testcols]"
   ]
  },
  {
   "cell_type": "code",
   "execution_count": 10,
   "metadata": {
    "collapsed": true
   },
   "outputs": [],
   "source": [
    "#Xtrain, X_test, y_train, y_test = train_test_split(X,y, random_state=0)"
   ]
  },
  {
   "cell_type": "code",
   "execution_count": 11,
   "metadata": {
    "collapsed": true
   },
   "outputs": [],
   "source": [
    "model = LogisticRegression()\n",
    "mod_fit = model.fit(Train_DF,y_train)"
   ]
  },
  {
   "cell_type": "markdown",
   "metadata": {},
   "source": [
    "## Accuracy of Train"
   ]
  },
  {
   "cell_type": "code",
   "execution_count": 12,
   "metadata": {},
   "outputs": [
    {
     "name": "stdout",
     "output_type": "stream",
     "text": [
      "0.950684714286\n"
     ]
    }
   ],
   "source": [
    "print(model.score(Train_DF,y_train))"
   ]
  },
  {
   "cell_type": "code",
   "execution_count": 13,
   "metadata": {
    "collapsed": true
   },
   "outputs": [],
   "source": [
    "pred = mod_fit.predict(Test_DF)"
   ]
  },
  {
   "cell_type": "markdown",
   "metadata": {},
   "source": [
    "## Accuracy of Test"
   ]
  },
  {
   "cell_type": "code",
   "execution_count": 14,
   "metadata": {},
   "outputs": [
    {
     "data": {
      "text/plain": [
       "0.94952385714285714"
      ]
     },
     "execution_count": 14,
     "metadata": {},
     "output_type": "execute_result"
    }
   ],
   "source": [
    "metrics.accuracy_score(y_test,pred)"
   ]
  },
  {
   "cell_type": "markdown",
   "metadata": {},
   "source": [
    "## Confusion Matrix"
   ]
  },
  {
   "cell_type": "code",
   "execution_count": 24,
   "metadata": {},
   "outputs": [
    {
     "name": "stdout",
     "output_type": "stream",
     "text": [
      "[[6644873    3907]\n",
      " [ 349426    1794]]\n"
     ]
    }
   ],
   "source": [
    "print (metrics.confusion_matrix(y_test,pred))"
   ]
  },
  {
   "cell_type": "code",
   "execution_count": 22,
   "metadata": {
    "collapsed": true
   },
   "outputs": [],
   "source": [
    "preds = model.predict_proba(Test_DF)[:,1]\n",
    "fpr,tpr, _ = roc_curve(y_test,preds)"
   ]
  },
  {
   "cell_type": "markdown",
   "metadata": {},
   "source": [
    "## ROC Curve"
   ]
  },
  {
   "cell_type": "code",
   "execution_count": 23,
   "metadata": {},
   "outputs": [
    {
     "data": {
      "image/png": "[encoded data removed]",
      "text/plain": [
       "<matplotlib.figure.Figure at 0x2b00e0b44a8>"
      ]
     },
     "metadata": {},
     "output_type": "display_data"
    }
   ],
   "source": [
    "import matplotlib.pylab as plt\n",
    "\n",
    "plt.figure()\n",
    "plt.plot(fpr,tpr,label= \"ROC CURVE\")\n",
    "plt.plot([0,1],[0,1],'k--')\n",
    "plt.xlim([0.0,1.0])\n",
    "plt.ylim([0.0,1.05])\n",
    "plt.xlabel('1-Specificity')\n",
    "plt.ylabel('Sensitivity')\n",
    "plt.title('ROC CURVE')\n",
    "plt.legend(loc=\"lower right\")\n",
    "plt.show()"
   ]
  },
  {
   "cell_type": "code",
   "execution_count": 19,
   "metadata": {
    "scrolled": false
   },
   "outputs": [
    {
     "name": "stdout",
     "output_type": "stream",
     "text": [
      "Optimization terminated successfully.\n",
      "         Current function value: 0.182535\n",
      "         Iterations 7\n",
      "                           Logit Regression Results                           \n",
      "==============================================================================\n",
      "Dep. Variable:             DELINQUENT   No. Observations:              7000000\n",
      "Model:                          Logit   Df Residuals:                  6999994\n",
      "Method:                           MLE   Df Model:                            5\n",
      "Date:                Thu, 20 Jul 2017   Pseudo R-squ.:                 0.06513\n",
      "Time:                        20:40:18   Log-Likelihood:            -1.2777e+06\n",
      "converged:                       True   LL-Null:                   -1.3668e+06\n",
      "                                        LLR p-value:                     0.000\n",
      "=========================================================================================\n",
      "                            coef    std err          z      P>|z|      [95.0% Conf. Int.]\n",
      "-----------------------------------------------------------------------------------------\n",
      "MONTHLY_REPORT_PERIOD -3.017e-05   1.63e-07   -184.599      0.000     -3.05e-05 -2.99e-05\n",
      "CUR_ACT_UPB            1.911e-06   2.31e-08     82.792      0.000      1.87e-06  1.96e-06\n",
      "LOAN_AGE                  0.0231    6.4e-05    361.691      0.000         0.023     0.023\n",
      "MONTHS_LEGAL_MATURITY     0.0048   5.01e-05     95.723      0.000         0.005     0.005\n",
      "CURR_INTERESTRATE        -0.0071      0.003     -2.093      0.036        -0.014    -0.000\n",
      "CURR_DEF_UPB           -1.16e-05   3.76e-07    -30.841      0.000     -1.23e-05 -1.09e-05\n",
      "=========================================================================================\n"
     ]
    }
   ],
   "source": [
    "logit = sm.Logit(y_train, Train_DF[traincols])\n",
    "logregression_result = logit.fit()a\n",
    "print(logregression_result.summary())"
   ]
  },
  {
   "cell_type": "code",
   "execution_count": 20,
   "metadata": {},
   "outputs": [
    {
     "name": "stdout",
     "output_type": "stream",
     "text": [
      "                              0         1\n",
      "MONTHLY_REPORT_PERIOD -0.000030 -0.000030\n",
      "CUR_ACT_UPB            0.000002  0.000002\n",
      "LOAN_AGE               0.023022  0.023273\n",
      "MONTHS_LEGAL_MATURITY  0.004697  0.004893\n",
      "CURR_INTERESTRATE     -0.013716 -0.000449\n",
      "CURR_DEF_UPB          -0.000012 -0.000011\n"
     ]
    }
   ],
   "source": [
    "print(logregression_result.conf_int())"
   ]
  },
  {
   "cell_type": "code",
   "execution_count": 21,
   "metadata": {},
   "outputs": [
    {
     "data": {
      "text/plain": [
       "array([[ -3.48573926e-05,   1.82118972e-06,   2.56470991e-02,\n",
       "          7.26871997e-03,  -2.71758424e-04,  -2.00350170e-05]])"
      ]
     },
     "execution_count": 21,
     "metadata": {},
     "output_type": "execute_result"
    }
   ],
   "source": [
    "model.coef_"
   ]
  }
 ],
 "metadata": {
  "kernelspec": {
   "display_name": "Python 3",
   "language": "python",
   "name": "python3"
  },
  "language_info": {
   "codemirror_mode": {
    "name": "ipython",
    "version": 3
   },
   "file_extension": ".py",
   "mimetype": "text/x-python",
   "name": "python",
   "nbconvert_exporter": "python",
   "pygments_lexer": "ipython3",
   "version": "3.6.0"
  }
 },
 "nbformat": 4,
 "nbformat_minor": 2
}
